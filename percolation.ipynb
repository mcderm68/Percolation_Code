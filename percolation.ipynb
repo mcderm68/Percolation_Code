{
 "cells": [
  {
   "cell_type": "markdown",
   "metadata": {},
   "source": [
    "# Percolation: Forest Fire "
   ]
  },
  {
   "cell_type": "markdown",
   "metadata": {},
   "source": [
    "Percolation theory is a branch of statistical physics and probability theory that deals with the behavior of connected clusters in random networks or lattices. In the simplest case, we can think of a grid of squares, where each square can be either \"occupied\" or \"empty\" with a certain probability.\n",
    "\n",
    "The percolation threshold is the critical probability at which a system undergoes a phase transition from having isolated clusters to having a connected cluster that spans the entire system.\n",
    "\n",
    "You can further review this in Chapter 15 in **Schroeder, 1991: Percolation: From Forest Fires to Epidemics.**\n",
    "\n",
    "Here we're writing a code to better understand percolation theory and the percolation threshold by modeling a forest fire grid through the following steps: \n",
    "1. **Grid:** We initlize the grid by setting each square to be either \"occupied\" with a living tree or \"empty\" with no tree. Each square is assigned a probability to represent the liklihood of a tree being present \n",
    "2. **Ignition point:** An ignition point is set on the grid where the fire starts. In the code below, we set the entire top row to be a \"burning tree\" aka the ignition point. \n",
    "3. **Spread Rules:** Define rules for how the fire spreads across the grid. This can be done based on wind direction, any environmental factors, and the probability of ignition of neighboring cells. In the case below, if a living tree is next to a burning tree, it will be a burning tree in the next iteration.\n",
    "4. **Simulation:** Simulate the spread of fire on the grid. You can use techniques like Monte Carlo simulations that iteratively update the state of each grid points based on the spread rules\n",
    "5. **Percolated Grid Point:** A grid point is \"percolated\" if it is part of a connected cluster that spans the grid from one edge to the other (our forest fire), allowing for the flow to be modeled "
   ]
  },
  {
   "cell_type": "code",
   "execution_count": 4,
   "metadata": {},
   "outputs": [
    {
     "name": "stdout",
     "output_type": "stream",
     "text": [
      "CPU times: user 2 µs, sys: 0 ns, total: 2 µs\n",
      "Wall time: 5.01 µs\n"
     ]
    },
    {
     "data": {
      "image/png": "[encoded data removed]",
      "text/plain": [
       "<Figure size 640x480 with 1 Axes>"
      ]
     },
     "metadata": {},
     "output_type": "display_data"
    }
   ],
   "source": [
    "from itertools import product\n",
    "from matplotlib.colors import ListedColormap\n",
    "import numpy as np\n",
    "import matplotlib.pyplot as plt\n",
    "\n",
    "Nx, Ny = Nxy = (100, 100) # grid size \n",
    "rng = np.random.default_rng(seed=2024) # choose random seed \n",
    "pc = 0.5927460507921 # averaged percolation threshold from Albinet \n",
    "\n",
    "# 0: no tree\n",
    "# 1: living tree\n",
    "# 2: burning tree\n",
    "# 3: burnt tree\n",
    "\n",
    "# initialize grid with trees and no trees \n",
    "X = rng.choice(2, size=Nxy, p=[1-pc, pc]) # probabilty range from percolation threshold\n",
    "\n",
    "# make slightly large array to add ghost-points to simplify testing\n",
    "X0_ = np.zeros((Nx+2, Ny+2))\n",
    "X0_[1:-1, 1:-1] = X\n",
    "X0_[1, 1:-1] = 2   # set top row to burning tree\n",
    "\n",
    "# some plotting routines\n",
    "cm = ListedColormap([\"black\", \"green\", \"red\", \"grey\"])\n",
    "def draw(X_, ax=None):\n",
    "    if ax is None:\n",
    "        ax = plt.gca()\n",
    "    ax.imshow(X_[1:-1, 1:-1], cmap=cm, vmin=0, vmax=3)\n",
    "\n",
    "# update grid based on the spread rules \n",
    "def update1(X_):\n",
    "    Nx, Ny = X_[1:-1, 1:-1].shape\n",
    "    Xnew_ = X_.copy() \n",
    "    burning = np.where(X_ ==  2) # find burning grid points \n",
    "    Xnew_[burning] = 3  # make all burning trees burnt in next iteration \n",
    "\n",
    "    # track whether or not a grid point is percolated \n",
    "    percolated = False\n",
    "    \n",
    "    # in the points that are burning \n",
    "    for ix, iy in zip(*burning):\n",
    "        for d in (-1, +1):\n",
    "            if X_[ix+d, iy] == 1:\n",
    "                Xnew_[ix+d, iy] = 2\n",
    "            if X_[ix, iy+d] == 1:\n",
    "                Xnew_[ix, iy+d] = 2\n",
    "            if ix == Nx:\n",
    "                percolated = True\n",
    "\n",
    "    return Xnew_, percolated \n",
    "\n",
    "X_ = X0_\n",
    "percolated = False \n",
    "\n",
    "# change this parameter \n",
    "runs = 100\n",
    "\n",
    "%time \n",
    "for n in range(runs): \n",
    "    X_, percolated = update1(X_)\n",
    "    if percolated:\n",
    "        break\n",
    "draw(X_)\n"
   ]
  },
  {
   "cell_type": "markdown",
   "metadata": {},
   "source": [
    "### Finding the percolation threshold"
   ]
  },
  {
   "cell_type": "markdown",
   "metadata": {},
   "source": [
    "Now we want to write an algorithm to find the percolation threshold. We can create a function to do that by checking to see if a grid point has \"percolated\". This means that it is part of a connected path of points in a grid or lattice through which some substance (such as a liquid or gas) can flow from one side of the grid to the other."
   ]
  },
  {
   "cell_type": "code",
   "execution_count": 5,
   "metadata": {},
   "outputs": [],
   "source": [
    "def percolation_threshold(Nxy, runs):\n",
    "    results = []\n",
    "    # probability \n",
    "    for p in np.linspace(0, 1, num=100):\n",
    "        pc_count = 0\n",
    "        for i in range(runs):\n",
    "            # use the same grid as above but with probability threshold not dependent on the percolation threshold\n",
    "            X = rng.choice(2, size=Nxy, p=[1-p, p])\n",
    "            if has_percolating_path(X):\n",
    "                pc_count += 1\n",
    "        fraction_percolated = pc_count runsls\n",
    "        results.append((p, fraction_percolated))\n",
    "    return results\n",
    "\n",
    "def has_percolating_path(lattice):\n",
    "    # check for percolation using depth-first search\n",
    "    def dfs(i, j, burning):\n",
    "        # check if out of bounds\n",
    "        if i < 0 or i >= len(lattice) or j < 0 or j >= len(lattice[0]) or lattice[i][j] == 0 or burning[i][j]:\n",
    "            return False\n",
    "        # otherwise \n",
    "        burning[i][j] = True\n",
    "        if i == len(lattice) - 1:\n",
    "            return True\n",
    "        return (dfs(i+1, j, burning) or dfs(i-1, j, burning) or dfs(i, j+1, burning) or dfs(i, j-1, burning))\n",
    "    \n",
    "    burning = [[False]*len(lattice[0]) for i in range(len(lattice))]\n",
    "    \n",
    "    for j in range(len(lattice[0])):\n",
    "        if dfs(0, j, burning):\n",
    "            return True\n",
    "    return False"
   ]
  },
  {
   "cell_type": "markdown",
   "metadata": {},
   "source": [
    "Now that we have all the elements needed to calculate the percolation threshold proabability (probability and the fraction of percolating configurions) we can analyze those results"
   ]
  },
  {
   "cell_type": "code",
   "execution_count": null,
   "metadata": {},
   "outputs": [],
   "source": [
    "# call the results \n",
    "\n",
    "\n",
    "# plot the results (fraction of percolating configurations vs. probability)\n"
   ]
  },
  {
   "cell_type": "code",
   "execution_count": null,
   "metadata": {},
   "outputs": [],
   "source": [
    "# create an array for the results if you haven't already\n",
    "# find the indices where the fraction of percolating configurations aren't 0 or 1 \n",
    "# np.where or np.logical_and may help for this part \n"
   ]
  },
  {
   "cell_type": "code",
   "execution_count": null,
   "metadata": {},
   "outputs": [],
   "source": [
    "# to find the percolation threshold, fit the indices above to find the center of the plot\n",
    "# you can use any technique you'd like but least squares works well! \n",
    "# you can also use a sigmoid to find the transition\n",
    "from scipy.optimize import least_squares\n",
    "\n",
    "\n",
    "\n"
   ]
  }
 ],
 "metadata": {
  "kernelspec": {
   "display_name": "Python 3",
   "language": "python",
   "name": "python3"
  },
  "language_info": {
   "codemirror_mode": {
    "name": "ipython",
    "version": 3
   },
   "file_extension": ".py",
   "mimetype": "text/x-python",
   "name": "python",
   "nbconvert_exporter": "python",
   "pygments_lexer": "ipython3",
   "version": "3.10.13"
  }
 },
 "nbformat": 4,
 "nbformat_minor": 2
}
